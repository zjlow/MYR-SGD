{
 "cells": [
  {
   "cell_type": "code",
   "execution_count": 1,
   "id": "6fc44b10",
   "metadata": {},
   "outputs": [
    {
     "data": {
      "text/html": [
       "<div>\n",
       "<style scoped>\n",
       "    .dataframe tbody tr th:only-of-type {\n",
       "        vertical-align: middle;\n",
       "    }\n",
       "\n",
       "    .dataframe tbody tr th {\n",
       "        vertical-align: top;\n",
       "    }\n",
       "\n",
       "    .dataframe thead th {\n",
       "        text-align: right;\n",
       "    }\n",
       "</style>\n",
       "<table border=\"1\" class=\"dataframe\">\n",
       "  <thead>\n",
       "    <tr style=\"text-align: right;\">\n",
       "      <th></th>\n",
       "      <th>utc_time</th>\n",
       "      <th>sgd_amount</th>\n",
       "      <th>MASTERCARD</th>\n",
       "      <th>WISE_FROM_BANK_TRANSFER</th>\n",
       "      <th>WISE_FROM_BALANCE</th>\n",
       "    </tr>\n",
       "  </thead>\n",
       "  <tbody>\n",
       "    <tr>\n",
       "      <th>0</th>\n",
       "      <td>2025-06-27 17:37:53</td>\n",
       "      <td>3000</td>\n",
       "      <td>3.334906</td>\n",
       "      <td>3.336213</td>\n",
       "      <td>3.33552</td>\n",
       "    </tr>\n",
       "  </tbody>\n",
       "</table>\n",
       "</div>"
      ],
      "text/plain": [
       "              utc_time  sgd_amount  MASTERCARD  WISE_FROM_BANK_TRANSFER  \\\n",
       "0  2025-06-27 17:37:53        3000    3.334906                 3.336213   \n",
       "\n",
       "   WISE_FROM_BALANCE  \n",
       "0            3.33552  "
      ]
     },
     "execution_count": 1,
     "metadata": {},
     "output_type": "execute_result"
    }
   ],
   "source": [
    "from utils.retrieve import get_results\n",
    "\n",
    "sgd_amount = 3000\n",
    "\n",
    "df = get_results(3000)\n",
    "df"
   ]
  },
  {
   "cell_type": "markdown",
   "id": "7c6101e3",
   "metadata": {},
   "source": [
    "# Store data"
   ]
  },
  {
   "cell_type": "code",
   "execution_count": 2,
   "id": "bef87395",
   "metadata": {},
   "outputs": [
    {
     "name": "stdout",
     "output_type": "stream",
     "text": [
      "Appended!\n"
     ]
    }
   ],
   "source": [
    "from os import path\n",
    "outputpath = '../data/rates.csv'\n",
    "\n",
    "if path.exists(outputpath):\n",
    "    df.to_csv(outputpath, mode='a', header=False, index=False)\n",
    "    print('Appended!')\n",
    "else:\n",
    "    df.to_csv(outputpath, mode='w', header=True, index=False)\n",
    "    print('Saved to new file!')"
   ]
  }
 ],
 "metadata": {
  "kernelspec": {
   "display_name": "venv",
   "language": "python",
   "name": "python3"
  },
  "language_info": {
   "codemirror_mode": {
    "name": "ipython",
    "version": 3
   },
   "file_extension": ".py",
   "mimetype": "text/x-python",
   "name": "python",
   "nbconvert_exporter": "python",
   "pygments_lexer": "ipython3",
   "version": "3.11.7"
  }
 },
 "nbformat": 4,
 "nbformat_minor": 5
}
