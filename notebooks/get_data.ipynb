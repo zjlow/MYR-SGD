{
 "cells": [
  {
   "cell_type": "markdown",
   "id": "42a96067",
   "metadata": {},
   "source": [
    "# Imports and initialization"
   ]
  },
  {
   "cell_type": "code",
   "execution_count": 1,
   "id": "6fc44b10",
   "metadata": {},
   "outputs": [],
   "source": [
    "import requests\n",
    "from pprint import pprint\n",
    "from datetime import datetime, timezone\n",
    "\n",
    "sgd_amount = 3000\n",
    "\n",
    "now = datetime.now(tz=timezone.utc).strftime('%Y-%m-%d %H:%M:%S')\n",
    "\n",
    "ratios = {'utc_time': now}"
   ]
  },
  {
   "cell_type": "markdown",
   "id": "ac552302",
   "metadata": {},
   "source": [
    "# Get current conversion from MasterCard"
   ]
  },
  {
   "cell_type": "code",
   "execution_count": 2,
   "id": "98ef1e08",
   "metadata": {},
   "outputs": [
    {
     "name": "stdout",
     "output_type": "stream",
     "text": [
      "2025-06-27 17:18:26\n",
      "{'conversionRate': 3.3349064,\n",
      " 'crdhldBillAmt': 10004.7192,\n",
      " 'crdhldBillCurr': 'MYR',\n",
      " 'fxDate': '2025-06-26',\n",
      " 'transAmt': 3000,\n",
      " 'transCurr': 'SGD'}\n"
     ]
    }
   ],
   "source": [
    "url = 'https://www.mastercard.com/settlement/currencyrate/conversion-rate'\n",
    "params = {'fxDate':'0000-00-00', # current rate\n",
    "          'transCurr': 'SGD', \n",
    "          'crdhldBillCurr': 'MYR', \n",
    "          'bankFee': 0, \n",
    "          'transAmt': sgd_amount}\n",
    "headers = {'User-Agent': 'Mozilla/5.0 (Windows NT 10.0; Win64; x64; rv:140.0) Gecko/20100101 Firefox/140.0'}\n",
    "response = requests.get(url=url, headers=headers, params=params)\n",
    "\n",
    "print(response.json()['date'])\n",
    "result = response.json()['data']\n",
    "pprint(result)\n",
    "\n",
    "ratio = result['conversionRate']\n",
    "# alternatively:\n",
    "# ratio = result['crdhldBillAmt'] / result['transAmt']\n",
    "\n",
    "assert ratio > 3 and ratio < 3.6\n",
    "\n",
    "ratios['MASTERCARD'] = ratio"
   ]
  },
  {
   "cell_type": "markdown",
   "id": "ea793e48",
   "metadata": {},
   "source": [
    "# Get current conversion from Wise"
   ]
  },
  {
   "cell_type": "code",
   "execution_count": 3,
   "id": "5a537030",
   "metadata": {},
   "outputs": [],
   "source": [
    "url = 'https://api.wise.com/v3/quotes/'\n",
    "params = {'sourceCurrency': 'MYR', \n",
    "          'targetCurrency': 'SGD', \n",
    "          'sourceAmount': 'null', \n",
    "          'targetAmount': sgd_amount }\n",
    "\n",
    "x = requests.post(url, json = params, headers=headers)\n",
    "\n",
    "results = [i for i in x.json()['paymentOptions'] if i['payIn'] in ['BALANCE', 'BANK_TRANSFER']]\n",
    "\n",
    "# results = {'WISE_FROM_'+r['payIn']: {r['sourceCurrency']: r['sourceAmount'], r['targetCurrency']:r['targetAmount']} for r in results}\n",
    "results = {'WISE_FROM_'+r['payIn']: r['sourceAmount'] / r['targetAmount'] for r in results}\n",
    "for r in results.values():\n",
    "    assert r > 3 and r < 3.6\n",
    "\n",
    "ratios.update(results)"
   ]
  },
  {
   "cell_type": "markdown",
   "id": "7c6101e3",
   "metadata": {},
   "source": [
    "# Store data"
   ]
  },
  {
   "cell_type": "code",
   "execution_count": 4,
   "id": "8b979217",
   "metadata": {},
   "outputs": [
    {
     "name": "stdout",
     "output_type": "stream",
     "text": [
      "{'utc_time': '2025-06-27 17:18:25', 'MASTERCARD': 3.3349064, 'WISE_FROM_BANK_TRANSFER': 3.3372533333333334, 'WISE_FROM_BALANCE': 3.3365566666666666}\n"
     ]
    }
   ],
   "source": [
    "print(ratios)"
   ]
  },
  {
   "cell_type": "code",
   "execution_count": 5,
   "id": "ac8e91f6",
   "metadata": {},
   "outputs": [
    {
     "data": {
      "text/html": [
       "<div>\n",
       "<style scoped>\n",
       "    .dataframe tbody tr th:only-of-type {\n",
       "        vertical-align: middle;\n",
       "    }\n",
       "\n",
       "    .dataframe tbody tr th {\n",
       "        vertical-align: top;\n",
       "    }\n",
       "\n",
       "    .dataframe thead th {\n",
       "        text-align: right;\n",
       "    }\n",
       "</style>\n",
       "<table border=\"1\" class=\"dataframe\">\n",
       "  <thead>\n",
       "    <tr style=\"text-align: right;\">\n",
       "      <th></th>\n",
       "      <th>utc_time</th>\n",
       "      <th>MASTERCARD</th>\n",
       "      <th>WISE_FROM_BANK_TRANSFER</th>\n",
       "      <th>WISE_FROM_BALANCE</th>\n",
       "    </tr>\n",
       "  </thead>\n",
       "  <tbody>\n",
       "    <tr>\n",
       "      <th>0</th>\n",
       "      <td>2025-06-27 17:18:25</td>\n",
       "      <td>3.334906</td>\n",
       "      <td>3.337253</td>\n",
       "      <td>3.336557</td>\n",
       "    </tr>\n",
       "  </tbody>\n",
       "</table>\n",
       "</div>"
      ],
      "text/plain": [
       "              utc_time  MASTERCARD  WISE_FROM_BANK_TRANSFER  WISE_FROM_BALANCE\n",
       "0  2025-06-27 17:18:25    3.334906                 3.337253           3.336557"
      ]
     },
     "execution_count": 5,
     "metadata": {},
     "output_type": "execute_result"
    }
   ],
   "source": [
    "import pandas as pd\n",
    "\n",
    "df = pd.DataFrame({k: [v] for k, v in ratios.items()})\n",
    "df"
   ]
  },
  {
   "cell_type": "code",
   "execution_count": 6,
   "id": "bef87395",
   "metadata": {},
   "outputs": [
    {
     "name": "stdout",
     "output_type": "stream",
     "text": [
      "Appended!\n"
     ]
    }
   ],
   "source": [
    "from os import path\n",
    "outputpath = '../data/rates.csv'\n",
    "\n",
    "if path.exists(outputpath):\n",
    "    df.to_csv(outputpath, mode='a', header=False, index=False)\n",
    "    print('Appended!')\n",
    "else:\n",
    "    df.to_csv(outputpath, mode='w', header=True, index=False)\n",
    "    print('Saved to new file!')"
   ]
  }
 ],
 "metadata": {
  "kernelspec": {
   "display_name": "venv",
   "language": "python",
   "name": "python3"
  },
  "language_info": {
   "codemirror_mode": {
    "name": "ipython",
    "version": 3
   },
   "file_extension": ".py",
   "mimetype": "text/x-python",
   "name": "python",
   "nbconvert_exporter": "python",
   "pygments_lexer": "ipython3",
   "version": "3.11.7"
  }
 },
 "nbformat": 4,
 "nbformat_minor": 5
}
