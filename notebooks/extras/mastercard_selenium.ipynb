{
 "cells": [
  {
   "cell_type": "markdown",
   "id": "e0e2e8e3",
   "metadata": {},
   "source": [
    "- https://wise.com/\n",
    "- https://wise.com/large-amounts/\n",
    "- https://wise.com/my/currency-converter/myr-to-sgd-rate?amount=3000"
   ]
  },
  {
   "cell_type": "code",
   "execution_count": 1,
   "id": "f772bb00",
   "metadata": {},
   "outputs": [
    {
     "name": "stdout",
     "output_type": "stream",
     "text": [
      "4.33.0\n"
     ]
    }
   ],
   "source": [
    "import selenium\n",
    "print(selenium.__version__)\n",
    "\n",
    "from selenium import webdriver\n",
    "from selenium.webdriver.common.by import By\n",
    "from selenium.webdriver.support.wait import WebDriverWait\n",
    "from selenium.webdriver.support import expected_conditions as EC\n",
    "from selenium.webdriver.common.keys import Keys"
   ]
  },
  {
   "cell_type": "code",
   "execution_count": 2,
   "id": "a631ccf6",
   "metadata": {},
   "outputs": [],
   "source": [
    "from time import sleep\n",
    "from random import uniform\n",
    "\n",
    "def rsleep():\n",
    "    # sleep for a random amount of time (between 2.5 and 6.5 seconds)\n",
    "    return sleep(uniform(2.5, 6.5))"
   ]
  },
  {
   "cell_type": "code",
   "execution_count": 3,
   "id": "a2c58f52",
   "metadata": {},
   "outputs": [],
   "source": [
    "mastercard_page = 'https://www.mastercard.com/content/mastercardcom/global/en/personal/get-support/convert-currency.html'"
   ]
  },
  {
   "cell_type": "code",
   "execution_count": 4,
   "id": "80a558ca",
   "metadata": {},
   "outputs": [
    {
     "name": "stdout",
     "output_type": "stream",
     "text": [
      "Loading...\n",
      "Retrieved!\n",
      "Your transaction amount of 1,000.00 SGD = 3,334.91 MYR in your card currency\n"
     ]
    }
   ],
   "source": [
    "driver = webdriver.Firefox()\n",
    "driver.get(mastercard_page)\n",
    "print('Loading...')\n",
    "\n",
    "try:\n",
    "    # Setting cookie instructions\n",
    "    WebDriverWait(driver, 5).until(EC.element_to_be_clickable((By.ID, 'onetrust-pc-btn-handler')))\n",
    "    rsleep()\n",
    "    driver.find_element(by=By.ID, value='onetrust-pc-btn-handler').click()\n",
    "    WebDriverWait(driver, 5).until(EC.element_to_be_clickable((By.CLASS_NAME, 'save-preference-btn-handler')))\n",
    "    rsleep()\n",
    "    driver.find_element(by=By.CLASS_NAME, value='save-preference-btn-handler').click()\n",
    "    rsleep()\n",
    "    \n",
    "    # Filling up the form\n",
    "    driver.find_element(by=By.ID, value='tCurrency').click()\n",
    "    rsleep()\n",
    "    driver.find_element(by=By.LINK_TEXT, value='SINGAPORE DOLLAR - SGD').click()\n",
    "    rsleep()\n",
    "    driver.find_element(by=By.ID, value='cardCurrency').click()\n",
    "    rsleep()\n",
    "    driver.find_element(by=By.LINK_TEXT, value='MALAYSIAN RINGGIT - MYR').click()\n",
    "    rsleep()\n",
    "    amt = driver.find_element(by=By.ID, value='txtTAmt')\n",
    "    amt.send_keys('1000')\n",
    "    rsleep()\n",
    "    bf = driver.find_element(by=By.ID, value='BankFee')\n",
    "    bf.send_keys('0')\n",
    "\n",
    "    # Submitting the form\n",
    "    bf.send_keys(Keys.RETURN)\n",
    "    WebDriverWait(driver, 5).until(EC.visibility_of_element_located((By.ID, 'exchangeRateDiv')))\n",
    "    rsleep()\n",
    "\n",
    "    # Retrieving the results\n",
    "    resultdiv = driver.find_element(By.ID, \"exchangeRateDiv\")\n",
    "    print('Retrieved!')\n",
    "    result = resultdiv.text\n",
    "    print(result)\n",
    "\n",
    "    # Processing the text result\n",
    "    result = result.replace('Your transaction amount of ', '')\n",
    "    result = result.replace(' in your card currency', '')\n",
    "    result = result.split(' = ')\n",
    "    result = {s.split(' ')[1]: s.split(' ')[0] for s in result}\n",
    "finally:\n",
    "    rsleep()\n",
    "    driver.quit()"
   ]
  },
  {
   "cell_type": "code",
   "execution_count": 5,
   "id": "7b61a281",
   "metadata": {},
   "outputs": [
    {
     "data": {
      "text/plain": [
       "{'SGD': 1000.0, 'MYR': 3334.91}"
      ]
     },
     "execution_count": 5,
     "metadata": {},
     "output_type": "execute_result"
    }
   ],
   "source": [
    "try:\n",
    "    result = {k: float(v) for k, v in result.items()}\n",
    "except ValueError:\n",
    "    result = {k: float(v.replace(',','')) for k, v in result.items()}\n",
    "\n",
    "# Checking that the numbers make sense\n",
    "assert result['MYR'] > result['SGD'] * 3.0\n",
    "assert result['MYR'] < result['SGD'] * 3.6\n",
    "\n",
    "result"
   ]
  },
  {
   "cell_type": "code",
   "execution_count": null,
   "id": "5804f9a2",
   "metadata": {},
   "outputs": [],
   "source": []
  }
 ],
 "metadata": {
  "kernelspec": {
   "display_name": "venv",
   "language": "python",
   "name": "python3"
  },
  "language_info": {
   "codemirror_mode": {
    "name": "ipython",
    "version": 3
   },
   "file_extension": ".py",
   "mimetype": "text/x-python",
   "name": "python",
   "nbconvert_exporter": "python",
   "pygments_lexer": "ipython3",
   "version": "3.11.7"
  }
 },
 "nbformat": 4,
 "nbformat_minor": 5
}
