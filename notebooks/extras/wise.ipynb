{
 "cells": [
  {
   "cell_type": "markdown",
   "id": "e0e2e8e3",
   "metadata": {},
   "source": [
    "- https://wise.com/\n",
    "- https://wise.com/large-amounts/\n",
    "- https://wise.com/my/currency-converter/myr-to-sgd-rate?amount=3000"
   ]
  },
  {
   "cell_type": "code",
   "execution_count": null,
   "id": "7b61a281",
   "metadata": {},
   "outputs": [
    {
     "data": {
      "text/plain": [
       "{'SGD': 1000.0, 'MYR': 3334.91}"
      ]
     },
     "execution_count": 5,
     "metadata": {},
     "output_type": "execute_result"
    }
   ],
   "source": [
    "# try:\n",
    "#     result = {k: float(v) for k, v in result.items()}\n",
    "# except ValueError:\n",
    "#     result = {k: float(v.replace(',','')) for k, v in result.items()}\n",
    "\n",
    "# # Checking that the numbers make sense\n",
    "# assert result['MYR'] > result['SGD'] * 3.0\n",
    "# assert result['MYR'] < result['SGD'] * 3.6\n",
    "\n",
    "# result"
   ]
  },
  {
   "cell_type": "markdown",
   "id": "55da7d10",
   "metadata": {},
   "source": [
    "https://wise.com/my/send-money/?sourceCurrency=MYR&targetCurrency=SGD&sourceAmount=1000"
   ]
  },
  {
   "cell_type": "code",
   "execution_count": null,
   "id": "48973f08",
   "metadata": {},
   "outputs": [],
   "source": [
    "import requests\n",
    "wise_page = 'https://wise.com/my/send-money/?sourceCurrency=MYR&targetCurrency=SGD&targetAmount=1000&preferredPayIn=BALANCE'\n",
    "resp = requests.get(wise_page, headers={'User-Agent': 'Mozilla/5.0 (Windows NT 10.0; Win64; x64; rv:140.0) Gecko/20100101 Firefox/140.0'})"
   ]
  },
  {
   "cell_type": "markdown",
   "id": "94567750",
   "metadata": {},
   "source": [
    "https://wise.com/gateway/v1/account-requirements?source=MYR&target=SGD&sourceAmount=null"
   ]
  },
  {
   "cell_type": "markdown",
   "id": "587cbe63",
   "metadata": {},
   "source": [
    "https://docs.wise.com/api-docs/api-reference/quote"
   ]
  },
  {
   "cell_type": "code",
   "execution_count": null,
   "id": "05b50986",
   "metadata": {},
   "outputs": [
    {
     "name": "stdout",
     "output_type": "stream",
     "text": [
      "{'WISE_FROM_BANK_TRANSFER': {'MYR': 8345.32, 'SGD': 2500.0}, 'WISE_FROM_BALANCE': {'MYR': 8343.24, 'SGD': 2500.0}}\n"
     ]
    }
   ],
   "source": [
    "import requests\n",
    "from pprint import pprint\n",
    "\n",
    "url = 'https://api.wise.com/v3/quotes/'\n",
    "myobj = {'sourceCurrency': 'MYR', 'targetCurrency': 'SGD', 'sourceAmount': 'null', 'targetAmount': 2500}\n",
    "\n",
    "x = requests.post(url, json = myobj)\n",
    "\n",
    "results = [i for i in x.json()['paymentOptions'] if i['payIn'] in ['BALANCE', 'BANK_TRANSFER']]\n",
    "\n",
    "results = {'WISE_FROM_'+r['payIn']: {r['sourceCurrency']: r['sourceAmount'], r['targetCurrency']:r['targetAmount']} for r in results}\n",
    "print(results)"
   ]
  }
 ],
 "metadata": {
  "kernelspec": {
   "display_name": "venv",
   "language": "python",
   "name": "python3"
  },
  "language_info": {
   "codemirror_mode": {
    "name": "ipython",
    "version": 3
   },
   "file_extension": ".py",
   "mimetype": "text/x-python",
   "name": "python",
   "nbconvert_exporter": "python",
   "pygments_lexer": "ipython3",
   "version": "3.11.7"
  }
 },
 "nbformat": 4,
 "nbformat_minor": 5
}
