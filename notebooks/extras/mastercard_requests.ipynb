{
 "cells": [
  {
   "cell_type": "code",
   "execution_count": 3,
   "id": "c9643019",
   "metadata": {},
   "outputs": [
    {
     "name": "stdout",
     "output_type": "stream",
     "text": [
      "2025-06-27 13:27:00\n",
      "{'conversionRate': 3.3349064,\n",
      " 'crdhldBillAmt': 8337.266,\n",
      " 'crdhldBillCurr': 'MYR',\n",
      " 'fxDate': '2025-06-26',\n",
      " 'transAmt': 2500,\n",
      " 'transCurr': 'SGD'}\n"
     ]
    }
   ],
   "source": [
    "import requests\n",
    "from pprint import pprint\n",
    "\n",
    "response = requests.get('https://www.mastercard.com/settlement/currencyrate/conversion-rate?fxDate=0000-00-00&transCurr=SGD&crdhldBillCurr=MYR&bankFee=0&transAmt=2500', \n",
    "                        headers={'User-Agent': 'Mozilla/5.0 (Windows NT 10.0; Win64; x64; rv:140.0) Gecko/20100101 Firefox/140.0'})\n",
    "\n",
    "print(response.json()['date'])\n",
    "result = response.json()['data']\n",
    "pprint(result)"
   ]
  },
  {
   "cell_type": "code",
   "execution_count": 4,
   "id": "7401bfe6",
   "metadata": {},
   "outputs": [],
   "source": [
    "ratio = result['conversionRate']\n",
    "# alternatively:\n",
    "# ratio = result['crdhldBillAmt'] / result['transAmt']\n",
    "\n",
    "assert ratio > 3 and ratio < 3.6"
   ]
  },
  {
   "cell_type": "code",
   "execution_count": null,
   "id": "5804f9a2",
   "metadata": {},
   "outputs": [],
   "source": []
  }
 ],
 "metadata": {
  "kernelspec": {
   "display_name": "venv",
   "language": "python",
   "name": "python3"
  },
  "language_info": {
   "codemirror_mode": {
    "name": "ipython",
    "version": 3
   },
   "file_extension": ".py",
   "mimetype": "text/x-python",
   "name": "python",
   "nbconvert_exporter": "python",
   "pygments_lexer": "ipython3",
   "version": "3.11.7"
  }
 },
 "nbformat": 4,
 "nbformat_minor": 5
}
