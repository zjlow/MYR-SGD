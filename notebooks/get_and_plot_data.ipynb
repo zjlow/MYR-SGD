{
 "cells": [
  {
   "cell_type": "code",
   "execution_count": 1,
   "id": "6fc44b10",
   "metadata": {},
   "outputs": [
    {
     "data": {
      "text/html": [
       "<div>\n",
       "<style scoped>\n",
       "    .dataframe tbody tr th:only-of-type {\n",
       "        vertical-align: middle;\n",
       "    }\n",
       "\n",
       "    .dataframe tbody tr th {\n",
       "        vertical-align: top;\n",
       "    }\n",
       "\n",
       "    .dataframe thead th {\n",
       "        text-align: right;\n",
       "    }\n",
       "</style>\n",
       "<table border=\"1\" class=\"dataframe\">\n",
       "  <thead>\n",
       "    <tr style=\"text-align: right;\">\n",
       "      <th></th>\n",
       "      <th>converter</th>\n",
       "      <th>rate</th>\n",
       "      <th>sgd_amount</th>\n",
       "      <th>utc_time</th>\n",
       "    </tr>\n",
       "  </thead>\n",
       "  <tbody>\n",
       "    <tr>\n",
       "      <th>0</th>\n",
       "      <td>MASTERCARD</td>\n",
       "      <td>3.333858</td>\n",
       "      <td>500</td>\n",
       "      <td>2025-06-28 05:06:29</td>\n",
       "    </tr>\n",
       "    <tr>\n",
       "      <th>1</th>\n",
       "      <td>WISE_FROM_BANK_TRANSFER</td>\n",
       "      <td>3.348660</td>\n",
       "      <td>500</td>\n",
       "      <td>2025-06-28 05:06:29</td>\n",
       "    </tr>\n",
       "    <tr>\n",
       "      <th>2</th>\n",
       "      <td>WISE_FROM_BALANCE</td>\n",
       "      <td>3.344500</td>\n",
       "      <td>500</td>\n",
       "      <td>2025-06-28 05:06:29</td>\n",
       "    </tr>\n",
       "    <tr>\n",
       "      <th>3</th>\n",
       "      <td>MASTERCARD</td>\n",
       "      <td>3.333858</td>\n",
       "      <td>1000</td>\n",
       "      <td>2025-06-28 05:06:29</td>\n",
       "    </tr>\n",
       "    <tr>\n",
       "      <th>4</th>\n",
       "      <td>WISE_FROM_BANK_TRANSFER</td>\n",
       "      <td>3.341500</td>\n",
       "      <td>1000</td>\n",
       "      <td>2025-06-28 05:06:29</td>\n",
       "    </tr>\n",
       "    <tr>\n",
       "      <th>5</th>\n",
       "      <td>WISE_FROM_BALANCE</td>\n",
       "      <td>3.339420</td>\n",
       "      <td>1000</td>\n",
       "      <td>2025-06-28 05:06:29</td>\n",
       "    </tr>\n",
       "    <tr>\n",
       "      <th>6</th>\n",
       "      <td>MASTERCARD</td>\n",
       "      <td>3.333858</td>\n",
       "      <td>1500</td>\n",
       "      <td>2025-06-28 05:06:29</td>\n",
       "    </tr>\n",
       "    <tr>\n",
       "      <th>7</th>\n",
       "      <td>WISE_FROM_BANK_TRANSFER</td>\n",
       "      <td>3.339120</td>\n",
       "      <td>1500</td>\n",
       "      <td>2025-06-28 05:06:29</td>\n",
       "    </tr>\n",
       "    <tr>\n",
       "      <th>8</th>\n",
       "      <td>WISE_FROM_BALANCE</td>\n",
       "      <td>3.337733</td>\n",
       "      <td>1500</td>\n",
       "      <td>2025-06-28 05:06:29</td>\n",
       "    </tr>\n",
       "    <tr>\n",
       "      <th>9</th>\n",
       "      <td>MASTERCARD</td>\n",
       "      <td>3.333858</td>\n",
       "      <td>2000</td>\n",
       "      <td>2025-06-28 05:06:29</td>\n",
       "    </tr>\n",
       "    <tr>\n",
       "      <th>10</th>\n",
       "      <td>WISE_FROM_BANK_TRANSFER</td>\n",
       "      <td>3.337925</td>\n",
       "      <td>2000</td>\n",
       "      <td>2025-06-28 05:06:29</td>\n",
       "    </tr>\n",
       "    <tr>\n",
       "      <th>11</th>\n",
       "      <td>WISE_FROM_BALANCE</td>\n",
       "      <td>3.336885</td>\n",
       "      <td>2000</td>\n",
       "      <td>2025-06-28 05:06:29</td>\n",
       "    </tr>\n",
       "    <tr>\n",
       "      <th>12</th>\n",
       "      <td>MASTERCARD</td>\n",
       "      <td>3.333858</td>\n",
       "      <td>3000</td>\n",
       "      <td>2025-06-28 05:06:29</td>\n",
       "    </tr>\n",
       "    <tr>\n",
       "      <th>13</th>\n",
       "      <td>WISE_FROM_BANK_TRANSFER</td>\n",
       "      <td>3.336733</td>\n",
       "      <td>3000</td>\n",
       "      <td>2025-06-28 05:06:29</td>\n",
       "    </tr>\n",
       "    <tr>\n",
       "      <th>14</th>\n",
       "      <td>WISE_FROM_BALANCE</td>\n",
       "      <td>3.336040</td>\n",
       "      <td>3000</td>\n",
       "      <td>2025-06-28 05:06:29</td>\n",
       "    </tr>\n",
       "    <tr>\n",
       "      <th>15</th>\n",
       "      <td>MASTERCARD</td>\n",
       "      <td>3.333858</td>\n",
       "      <td>5000</td>\n",
       "      <td>2025-06-28 05:06:29</td>\n",
       "    </tr>\n",
       "    <tr>\n",
       "      <th>16</th>\n",
       "      <td>WISE_FROM_BANK_TRANSFER</td>\n",
       "      <td>3.335780</td>\n",
       "      <td>5000</td>\n",
       "      <td>2025-06-28 05:06:29</td>\n",
       "    </tr>\n",
       "    <tr>\n",
       "      <th>17</th>\n",
       "      <td>WISE_FROM_BALANCE</td>\n",
       "      <td>3.335364</td>\n",
       "      <td>5000</td>\n",
       "      <td>2025-06-28 05:06:29</td>\n",
       "    </tr>\n",
       "  </tbody>\n",
       "</table>\n",
       "</div>"
      ],
      "text/plain": [
       "                  converter      rate  sgd_amount             utc_time\n",
       "0                MASTERCARD  3.333858         500  2025-06-28 05:06:29\n",
       "1   WISE_FROM_BANK_TRANSFER  3.348660         500  2025-06-28 05:06:29\n",
       "2         WISE_FROM_BALANCE  3.344500         500  2025-06-28 05:06:29\n",
       "3                MASTERCARD  3.333858        1000  2025-06-28 05:06:29\n",
       "4   WISE_FROM_BANK_TRANSFER  3.341500        1000  2025-06-28 05:06:29\n",
       "5         WISE_FROM_BALANCE  3.339420        1000  2025-06-28 05:06:29\n",
       "6                MASTERCARD  3.333858        1500  2025-06-28 05:06:29\n",
       "7   WISE_FROM_BANK_TRANSFER  3.339120        1500  2025-06-28 05:06:29\n",
       "8         WISE_FROM_BALANCE  3.337733        1500  2025-06-28 05:06:29\n",
       "9                MASTERCARD  3.333858        2000  2025-06-28 05:06:29\n",
       "10  WISE_FROM_BANK_TRANSFER  3.337925        2000  2025-06-28 05:06:29\n",
       "11        WISE_FROM_BALANCE  3.336885        2000  2025-06-28 05:06:29\n",
       "12               MASTERCARD  3.333858        3000  2025-06-28 05:06:29\n",
       "13  WISE_FROM_BANK_TRANSFER  3.336733        3000  2025-06-28 05:06:29\n",
       "14        WISE_FROM_BALANCE  3.336040        3000  2025-06-28 05:06:29\n",
       "15               MASTERCARD  3.333858        5000  2025-06-28 05:06:29\n",
       "16  WISE_FROM_BANK_TRANSFER  3.335780        5000  2025-06-28 05:06:29\n",
       "17        WISE_FROM_BALANCE  3.335364        5000  2025-06-28 05:06:29"
      ]
     },
     "execution_count": 1,
     "metadata": {},
     "output_type": "execute_result"
    }
   ],
   "source": [
    "from utils.retrieve import get_results\n",
    "\n",
    "sgd_amount = [500, 1000, 1500, 2000, 3000, 5000]\n",
    "\n",
    "df = get_results(sgd_amount)\n",
    "df"
   ]
  },
  {
   "cell_type": "markdown",
   "id": "7c6101e3",
   "metadata": {},
   "source": [
    "# Store data"
   ]
  },
  {
   "cell_type": "code",
   "execution_count": 2,
   "id": "bef87395",
   "metadata": {},
   "outputs": [
    {
     "name": "stdout",
     "output_type": "stream",
     "text": [
      "Appended!\n"
     ]
    }
   ],
   "source": [
    "from os import path\n",
    "outputpath = '../data/rates.csv'\n",
    "\n",
    "if path.exists(outputpath):\n",
    "    df.to_csv(outputpath, mode='a', header=False, index=False)\n",
    "    print('Appended!')\n",
    "else:\n",
    "    df.to_csv(outputpath, mode='w', header=True, index=False)\n",
    "    print('Saved to new file!')"
   ]
  },
  {
   "cell_type": "code",
   "execution_count": 3,
   "id": "209c3b95",
   "metadata": {},
   "outputs": [],
   "source": [
    "import plotly.express as px\n",
    "import pandas as pd"
   ]
  },
  {
   "cell_type": "code",
   "execution_count": 4,
   "id": "cc6ef145",
   "metadata": {},
   "outputs": [
    {
     "name": "stdout",
     "output_type": "stream",
     "text": [
      "<class 'pandas.core.frame.DataFrame'>\n",
      "RangeIndex: 54 entries, 0 to 53\n",
      "Data columns (total 4 columns):\n",
      " #   Column      Non-Null Count  Dtype         \n",
      "---  ------      --------------  -----         \n",
      " 0   converter   54 non-null     string        \n",
      " 1   rate        54 non-null     float64       \n",
      " 2   sgd_amount  54 non-null     int64         \n",
      " 3   utc_time    54 non-null     datetime64[ns]\n",
      "dtypes: datetime64[ns](1), float64(1), int64(1), string(1)\n",
      "memory usage: 1.8 KB\n"
     ]
    }
   ],
   "source": [
    "df = pd.read_csv('../data/rates.csv', parse_dates=['utc_time'], dtype={'converter':'string'})\n",
    "df.info()"
   ]
  },
  {
   "cell_type": "code",
   "execution_count": 5,
   "id": "e8b3f346",
   "metadata": {},
   "outputs": [
    {
     "data": {
      "text/html": [
       "        <script type=\"text/javascript\">\n",
       "        window.PlotlyConfig = {MathJaxConfig: 'local'};\n",
       "        if (window.MathJax && window.MathJax.Hub && window.MathJax.Hub.Config) {window.MathJax.Hub.Config({SVG: {font: \"STIX-Web\"}});}\n",
       "        </script>\n",
       "        <script type=\"module\">import \"https://cdn.plot.ly/plotly-3.0.1.min\"</script>\n",
       "        "
      ]
     },
     "metadata": {},
     "output_type": "display_data"
    },
    {
     "data": {
      "text/html": [
       "<div>            <script src=\"https://cdnjs.cloudflare.com/ajax/libs/mathjax/2.7.5/MathJax.js?config=TeX-AMS-MML_SVG\"></script><script type=\"text/javascript\">if (window.MathJax && window.MathJax.Hub && window.MathJax.Hub.Config) {window.MathJax.Hub.Config({SVG: {font: \"STIX-Web\"}});}</script>                <script type=\"text/javascript\">window.PlotlyConfig = {MathJaxConfig: 'local'};</script>\n",
       "        <script charset=\"utf-8\" src=\"https://cdn.plot.ly/plotly-3.0.1.min.js\" integrity=\"sha256-oy6Be7Eh6eiQFs5M7oXuPxxm9qbJXEtTpfSI93dW16Q=\" crossorigin=\"anonymous\"></script>                <div id=\"171e7a21-e93a-4571-a683-059be8b08ae3\" class=\"plotly-graph-div\" style=\"height:525px; width:100%;\"></div>            <script type=\"text/javascript\">                window.PLOTLYENV=window.PLOTLYENV || {};                                if (document.getElementById(\"171e7a21-e93a-4571-a683-059be8b08ae3\")) {                    Plotly.newPlot(                        \"171e7a21-e93a-4571-a683-059be8b08ae3\",                        [{\"hovertemplate\":\"converter=MASTERCARD\\u003cbr\\u003esgd_amount=500\\u003cbr\\u003eutc_time=%{x}\\u003cbr\\u003erate=%{y}\\u003cextra\\u003e\\u003c\\u002fextra\\u003e\",\"legendgroup\":\"MASTERCARD\",\"line\":{\"color\":\"#636efa\",\"dash\":\"solid\"},\"marker\":{\"symbol\":\"circle\"},\"mode\":\"lines\",\"name\":\"MASTERCARD\",\"orientation\":\"v\",\"showlegend\":true,\"x\":[\"2025-06-27T18:12:29.000000000\",\"2025-06-27T18:16:58.000000000\",\"2025-06-28T05:06:29.000000000\"],\"xaxis\":\"x\",\"y\":{\"dtype\":\"f8\",\"bdata\":\"zcQZaOOtCkDNxBlo460KQM8xIHu9qwpA\"},\"yaxis\":\"y\",\"type\":\"scatter\"},{\"hovertemplate\":\"converter=MASTERCARD\\u003cbr\\u003esgd_amount=1000\\u003cbr\\u003eutc_time=%{x}\\u003cbr\\u003erate=%{y}\\u003cextra\\u003e\\u003c\\u002fextra\\u003e\",\"legendgroup\":\"MASTERCARD\",\"line\":{\"color\":\"#636efa\",\"dash\":\"solid\"},\"marker\":{\"symbol\":\"circle\"},\"mode\":\"lines\",\"name\":\"MASTERCARD\",\"orientation\":\"v\",\"showlegend\":false,\"x\":[\"2025-06-27T18:12:29.000000000\",\"2025-06-27T18:16:58.000000000\",\"2025-06-28T05:06:29.000000000\"],\"xaxis\":\"x2\",\"y\":{\"dtype\":\"f8\",\"bdata\":\"zcQZaOOtCkDNxBlo460KQM8xIHu9qwpA\"},\"yaxis\":\"y2\",\"type\":\"scatter\"},{\"hovertemplate\":\"converter=MASTERCARD\\u003cbr\\u003esgd_amount=1500\\u003cbr\\u003eutc_time=%{x}\\u003cbr\\u003erate=%{y}\\u003cextra\\u003e\\u003c\\u002fextra\\u003e\",\"legendgroup\":\"MASTERCARD\",\"line\":{\"color\":\"#636efa\",\"dash\":\"solid\"},\"marker\":{\"symbol\":\"circle\"},\"mode\":\"lines\",\"name\":\"MASTERCARD\",\"orientation\":\"v\",\"showlegend\":false,\"x\":[\"2025-06-27T18:12:29.000000000\",\"2025-06-27T18:16:58.000000000\",\"2025-06-28T05:06:29.000000000\"],\"xaxis\":\"x3\",\"y\":{\"dtype\":\"f8\",\"bdata\":\"zcQZaOOtCkDNxBlo460KQM8xIHu9qwpA\"},\"yaxis\":\"y3\",\"type\":\"scatter\"},{\"hovertemplate\":\"converter=MASTERCARD\\u003cbr\\u003esgd_amount=2000\\u003cbr\\u003eutc_time=%{x}\\u003cbr\\u003erate=%{y}\\u003cextra\\u003e\\u003c\\u002fextra\\u003e\",\"legendgroup\":\"MASTERCARD\",\"line\":{\"color\":\"#636efa\",\"dash\":\"solid\"},\"marker\":{\"symbol\":\"circle\"},\"mode\":\"lines\",\"name\":\"MASTERCARD\",\"orientation\":\"v\",\"showlegend\":false,\"x\":[\"2025-06-27T18:12:29.000000000\",\"2025-06-27T18:16:58.000000000\",\"2025-06-28T05:06:29.000000000\"],\"xaxis\":\"x4\",\"y\":{\"dtype\":\"f8\",\"bdata\":\"zcQZaOOtCkDNxBlo460KQM8xIHu9qwpA\"},\"yaxis\":\"y4\",\"type\":\"scatter\"},{\"hovertemplate\":\"converter=MASTERCARD\\u003cbr\\u003esgd_amount=3000\\u003cbr\\u003eutc_time=%{x}\\u003cbr\\u003erate=%{y}\\u003cextra\\u003e\\u003c\\u002fextra\\u003e\",\"legendgroup\":\"MASTERCARD\",\"line\":{\"color\":\"#636efa\",\"dash\":\"solid\"},\"marker\":{\"symbol\":\"circle\"},\"mode\":\"lines\",\"name\":\"MASTERCARD\",\"orientation\":\"v\",\"showlegend\":false,\"x\":[\"2025-06-27T18:12:29.000000000\",\"2025-06-27T18:16:58.000000000\",\"2025-06-28T05:06:29.000000000\"],\"xaxis\":\"x5\",\"y\":{\"dtype\":\"f8\",\"bdata\":\"zcQZaOOtCkDNxBlo460KQM8xIHu9qwpA\"},\"yaxis\":\"y5\",\"type\":\"scatter\"},{\"hovertemplate\":\"converter=MASTERCARD\\u003cbr\\u003esgd_amount=5000\\u003cbr\\u003eutc_time=%{x}\\u003cbr\\u003erate=%{y}\\u003cextra\\u003e\\u003c\\u002fextra\\u003e\",\"legendgroup\":\"MASTERCARD\",\"line\":{\"color\":\"#636efa\",\"dash\":\"solid\"},\"marker\":{\"symbol\":\"circle\"},\"mode\":\"lines\",\"name\":\"MASTERCARD\",\"orientation\":\"v\",\"showlegend\":false,\"x\":[\"2025-06-27T18:12:29.000000000\",\"2025-06-27T18:16:58.000000000\",\"2025-06-28T05:06:29.000000000\"],\"xaxis\":\"x6\",\"y\":{\"dtype\":\"f8\",\"bdata\":\"zcQZaOOtCkDNxBlo460KQM8xIHu9qwpA\"},\"yaxis\":\"y6\",\"type\":\"scatter\"},{\"hovertemplate\":\"converter=WISE_FROM_BANK_TRANSFER\\u003cbr\\u003esgd_amount=500\\u003cbr\\u003eutc_time=%{x}\\u003cbr\\u003erate=%{y}\\u003cextra\\u003e\\u003c\\u002fextra\\u003e\",\"legendgroup\":\"WISE_FROM_BANK_TRANSFER\",\"line\":{\"color\":\"#EF553B\",\"dash\":\"solid\"},\"marker\":{\"symbol\":\"circle\"},\"mode\":\"lines\",\"name\":\"WISE_FROM_BANK_TRANSFER\",\"orientation\":\"v\",\"showlegend\":true,\"x\":[\"2025-06-27T18:12:29.000000000\",\"2025-06-27T18:16:58.000000000\",\"2025-06-28T05:06:29.000000000\"],\"xaxis\":\"x\",\"y\":{\"dtype\":\"f8\",\"bdata\":\"ie\\u002fErBfDCkBP6WD9n8MKQAtjC0EOygpA\"},\"yaxis\":\"y\",\"type\":\"scatter\"},{\"hovertemplate\":\"converter=WISE_FROM_BANK_TRANSFER\\u003cbr\\u003esgd_amount=1000\\u003cbr\\u003eutc_time=%{x}\\u003cbr\\u003erate=%{y}\\u003cextra\\u003e\\u003c\\u002fextra\\u003e\",\"legendgroup\":\"WISE_FROM_BANK_TRANSFER\",\"line\":{\"color\":\"#EF553B\",\"dash\":\"solid\"},\"marker\":{\"symbol\":\"circle\"},\"mode\":\"lines\",\"name\":\"WISE_FROM_BANK_TRANSFER\",\"orientation\":\"v\",\"showlegend\":false,\"x\":[\"2025-06-27T18:12:29.000000000\",\"2025-06-27T18:16:58.000000000\",\"2025-06-28T05:06:29.000000000\"],\"xaxis\":\"x2\",\"y\":{\"dtype\":\"f8\",\"bdata\":\"hjjWxW20CkBNMnIW9rQKQAisHFpkuwpA\"},\"yaxis\":\"y2\",\"type\":\"scatter\"},{\"hovertemplate\":\"converter=WISE_FROM_BANK_TRANSFER\\u003cbr\\u003esgd_amount=1500\\u003cbr\\u003eutc_time=%{x}\\u003cbr\\u003erate=%{y}\\u003cextra\\u003e\\u003c\\u002fextra\\u003e\",\"legendgroup\":\"WISE_FROM_BANK_TRANSFER\",\"line\":{\"color\":\"#EF553B\",\"dash\":\"solid\"},\"marker\":{\"symbol\":\"circle\"},\"mode\":\"lines\",\"name\":\"WISE_FROM_BANK_TRANSFER\",\"orientation\":\"v\",\"showlegend\":false,\"x\":[\"2025-06-27T18:12:29.000000000\",\"2025-06-27T18:16:58.000000000\",\"2025-06-28T05:06:29.000000000\"],\"xaxis\":\"x3\",\"y\":{\"dtype\":\"f8\",\"bdata\":\"+L829ZSvCkCXzQnHGbAKQC5b64uEtgpA\"},\"yaxis\":\"y3\",\"type\":\"scatter\"},{\"hovertemplate\":\"converter=WISE_FROM_BANK_TRANSFER\\u003cbr\\u003esgd_amount=2000\\u003cbr\\u003eutc_time=%{x}\\u003cbr\\u003erate=%{y}\\u003cextra\\u003e\\u003c\\u002fextra\\u003e\",\"legendgroup\":\"WISE_FROM_BANK_TRANSFER\",\"line\":{\"color\":\"#EF553B\",\"dash\":\"solid\"},\"marker\":{\"symbol\":\"circle\"},\"mode\":\"lines\",\"name\":\"WISE_FROM_BANK_TRANSFER\",\"orientation\":\"v\",\"showlegend\":false,\"x\":[\"2025-06-27T18:12:29.000000000\",\"2025-06-27T18:16:58.000000000\",\"2025-06-28T05:06:29.000000000\"],\"xaxis\":\"x4\",\"y\":{\"dtype\":\"f8\",\"bdata\":\"WvCiryCtCkAEOShhpq0KQKQBvAUStApA\"},\"yaxis\":\"y4\",\"type\":\"scatter\"},{\"hovertemplate\":\"converter=WISE_FROM_BANK_TRANSFER\\u003cbr\\u003esgd_amount=3000\\u003cbr\\u003eutc_time=%{x}\\u003cbr\\u003erate=%{y}\\u003cextra\\u003e\\u003c\\u002fextra\\u003e\",\"legendgroup\":\"WISE_FROM_BANK_TRANSFER\",\"line\":{\"color\":\"#EF553B\",\"dash\":\"solid\"},\"marker\":{\"symbol\":\"circle\"},\"mode\":\"lines\",\"name\":\"WISE_FROM_BANK_TRANSFER\",\"orientation\":\"v\",\"showlegend\":false,\"x\":[\"2025-06-27T18:12:29.000000000\",\"2025-06-27T18:16:58.000000000\",\"2025-06-28T05:06:29.000000000\"],\"xaxis\":\"x5\",\"y\":{\"dtype\":\"f8\",\"bdata\":\"0ZZzKa6qCkCEGqu6NKsKQC0e8T6hsQpA\"},\"yaxis\":\"y5\",\"type\":\"scatter\"},{\"hovertemplate\":\"converter=WISE_FROM_BANK_TRANSFER\\u003cbr\\u003esgd_amount=5000\\u003cbr\\u003eutc_time=%{x}\\u003cbr\\u003erate=%{y}\\u003cextra\\u003e\\u003c\\u002fextra\\u003e\",\"legendgroup\":\"WISE_FROM_BANK_TRANSFER\",\"line\":{\"color\":\"#EF553B\",\"dash\":\"solid\"},\"marker\":{\"symbol\":\"circle\"},\"mode\":\"lines\",\"name\":\"WISE_FROM_BANK_TRANSFER\",\"orientation\":\"v\",\"showlegend\":false,\"x\":[\"2025-06-27T18:12:29.000000000\",\"2025-06-27T18:16:58.000000000\",\"2025-06-28T05:06:29.000000000\"],\"xaxis\":\"x6\",\"y\":{\"dtype\":\"f8\",\"bdata\":\"uCOcFryoCkBcr+lBQakKQAE1tWytrwpA\"},\"yaxis\":\"y6\",\"type\":\"scatter\"},{\"hovertemplate\":\"converter=WISE_FROM_BALANCE\\u003cbr\\u003esgd_amount=500\\u003cbr\\u003eutc_time=%{x}\\u003cbr\\u003erate=%{y}\\u003cextra\\u003e\\u003c\\u002fextra\\u003e\",\"legendgroup\":\"WISE_FROM_BALANCE\",\"line\":{\"color\":\"#00cc96\",\"dash\":\"solid\"},\"marker\":{\"symbol\":\"circle\"},\"mode\":\"lines\",\"name\":\"WISE_FROM_BALANCE\",\"orientation\":\"v\",\"showlegend\":true,\"x\":[\"2025-06-27T18:12:29.000000000\",\"2025-06-27T18:16:58.000000000\",\"2025-06-28T05:06:29.000000000\"],\"xaxis\":\"x\",\"y\":{\"dtype\":\"f8\",\"bdata\":\"tI6qJoi6CkDtTKHzGrsKQKjGSzeJwQpA\"},\"yaxis\":\"y\",\"type\":\"scatter\"},{\"hovertemplate\":\"converter=WISE_FROM_BALANCE\\u003cbr\\u003esgd_amount=1000\\u003cbr\\u003eutc_time=%{x}\\u003cbr\\u003erate=%{y}\\u003cextra\\u003e\\u003c\\u002fextra\\u003e\",\"legendgroup\":\"WISE_FROM_BALANCE\",\"line\":{\"color\":\"#00cc96\",\"dash\":\"solid\"},\"marker\":{\"symbol\":\"circle\"},\"mode\":\"lines\",\"name\":\"WISE_FROM_BALANCE\",\"orientation\":\"v\",\"showlegend\":false,\"x\":[\"2025-06-27T18:12:29.000000000\",\"2025-06-27T18:16:58.000000000\",\"2025-06-28T05:06:29.000000000\"],\"xaxis\":\"x2\",\"y\":{\"dtype\":\"f8\",\"bdata\":\"VWr2QCuwCkBUxr\\u002fPuLAKQNfdPNUhtwpA\"},\"yaxis\":\"y2\",\"type\":\"scatter\"},{\"hovertemplate\":\"converter=WISE_FROM_BALANCE\\u003cbr\\u003esgd_amount=1500\\u003cbr\\u003eutc_time=%{x}\\u003cbr\\u003erate=%{y}\\u003cextra\\u003e\\u003c\\u002fextra\\u003e\",\"legendgroup\":\"WISE_FROM_BALANCE\",\"line\":{\"color\":\"#00cc96\",\"dash\":\"solid\"},\"marker\":{\"symbol\":\"circle\"},\"mode\":\"lines\",\"name\":\"WISE_FROM_BALANCE\",\"orientation\":\"v\",\"showlegend\":false,\"x\":[\"2025-06-27T18:12:29.000000000\",\"2025-06-27T18:16:58.000000000\",\"2025-06-28T05:06:29.000000000\"],\"xaxis\":\"x3\",\"y\":{\"dtype\":\"f8\",\"bdata\":\"BvUtc7qsCkDM7snDQq0KQGF8q4itswpA\"},\"yaxis\":\"y3\",\"type\":\"scatter\"},{\"hovertemplate\":\"converter=WISE_FROM_BALANCE\\u003cbr\\u003esgd_amount=2000\\u003cbr\\u003eutc_time=%{x}\\u003cbr\\u003erate=%{y}\\u003cextra\\u003e\\u003c\\u002fextra\\u003e\",\"legendgroup\":\"WISE_FROM_BALANCE\",\"line\":{\"color\":\"#00cc96\",\"dash\":\"solid\"},\"marker\":{\"symbol\":\"circle\"},\"mode\":\"lines\",\"name\":\"WISE_FROM_BALANCE\",\"orientation\":\"v\",\"showlegend\":false,\"x\":[\"2025-06-27T18:12:29.000000000\",\"2025-06-27T18:16:58.000000000\",\"2025-06-28T05:06:29.000000000\"],\"xaxis\":\"x4\",\"y\":{\"dtype\":\"f8\",\"bdata\":\"JVgczvyqCkDPoKF\\u002fgqsKQIsaTMPwsQpA\"},\"yaxis\":\"y4\",\"type\":\"scatter\"},{\"hovertemplate\":\"converter=WISE_FROM_BALANCE\\u003cbr\\u003esgd_amount=3000\\u003cbr\\u003eutc_time=%{x}\\u003cbr\\u003erate=%{y}\\u003cextra\\u003e\\u003c\\u002fextra\\u003e\",\"legendgroup\":\"WISE_FROM_BALANCE\",\"line\":{\"color\":\"#00cc96\",\"dash\":\"solid\"},\"marker\":{\"symbol\":\"circle\"},\"mode\":\"lines\",\"name\":\"WISE_FROM_BALANCE\",\"orientation\":\"v\",\"showlegend\":false,\"x\":[\"2025-06-27T18:12:29.000000000\",\"2025-06-27T18:16:58.000000000\",\"2025-06-28T05:06:29.000000000\"],\"xaxis\":\"x5\",\"y\":{\"dtype\":\"f8\",\"bdata\":\"WDFv6ECpCkAdKws5yakKQMcuUb01sApA\"},\"yaxis\":\"y5\",\"type\":\"scatter\"},{\"hovertemplate\":\"converter=WISE_FROM_BALANCE\\u003cbr\\u003esgd_amount=5000\\u003cbr\\u003eutc_time=%{x}\\u003cbr\\u003erate=%{y}\\u003cextra\\u003e\\u003c\\u002fextra\\u003e\",\"legendgroup\":\"WISE_FROM_BALANCE\",\"line\":{\"color\":\"#00cc96\",\"dash\":\"solid\"},\"marker\":{\"symbol\":\"circle\"},\"mode\":\"lines\",\"name\":\"WISE_FROM_BALANCE\",\"orientation\":\"v\",\"showlegend\":false,\"x\":[\"2025-06-27T18:12:29.000000000\",\"2025-06-27T18:16:58.000000000\",\"2025-06-28T05:06:29.000000000\"],\"xaxis\":\"x6\",\"y\":{\"dtype\":\"f8\",\"bdata\":\"b4CZ7+CnCkArAMYzaKgKQMQLIlLTrgpA\"},\"yaxis\":\"y6\",\"type\":\"scatter\"}],                        {\"template\":{\"data\":{\"histogram2dcontour\":[{\"type\":\"histogram2dcontour\",\"colorbar\":{\"outlinewidth\":0,\"ticks\":\"\"},\"colorscale\":[[0.0,\"#0d0887\"],[0.1111111111111111,\"#46039f\"],[0.2222222222222222,\"#7201a8\"],[0.3333333333333333,\"#9c179e\"],[0.4444444444444444,\"#bd3786\"],[0.5555555555555556,\"#d8576b\"],[0.6666666666666666,\"#ed7953\"],[0.7777777777777778,\"#fb9f3a\"],[0.8888888888888888,\"#fdca26\"],[1.0,\"#f0f921\"]]}],\"choropleth\":[{\"type\":\"choropleth\",\"colorbar\":{\"outlinewidth\":0,\"ticks\":\"\"}}],\"histogram2d\":[{\"type\":\"histogram2d\",\"colorbar\":{\"outlinewidth\":0,\"ticks\":\"\"},\"colorscale\":[[0.0,\"#0d0887\"],[0.1111111111111111,\"#46039f\"],[0.2222222222222222,\"#7201a8\"],[0.3333333333333333,\"#9c179e\"],[0.4444444444444444,\"#bd3786\"],[0.5555555555555556,\"#d8576b\"],[0.6666666666666666,\"#ed7953\"],[0.7777777777777778,\"#fb9f3a\"],[0.8888888888888888,\"#fdca26\"],[1.0,\"#f0f921\"]]}],\"heatmap\":[{\"type\":\"heatmap\",\"colorbar\":{\"outlinewidth\":0,\"ticks\":\"\"},\"colorscale\":[[0.0,\"#0d0887\"],[0.1111111111111111,\"#46039f\"],[0.2222222222222222,\"#7201a8\"],[0.3333333333333333,\"#9c179e\"],[0.4444444444444444,\"#bd3786\"],[0.5555555555555556,\"#d8576b\"],[0.6666666666666666,\"#ed7953\"],[0.7777777777777778,\"#fb9f3a\"],[0.8888888888888888,\"#fdca26\"],[1.0,\"#f0f921\"]]}],\"contourcarpet\":[{\"type\":\"contourcarpet\",\"colorbar\":{\"outlinewidth\":0,\"ticks\":\"\"}}],\"contour\":[{\"type\":\"contour\",\"colorbar\":{\"outlinewidth\":0,\"ticks\":\"\"},\"colorscale\":[[0.0,\"#0d0887\"],[0.1111111111111111,\"#46039f\"],[0.2222222222222222,\"#7201a8\"],[0.3333333333333333,\"#9c179e\"],[0.4444444444444444,\"#bd3786\"],[0.5555555555555556,\"#d8576b\"],[0.6666666666666666,\"#ed7953\"],[0.7777777777777778,\"#fb9f3a\"],[0.8888888888888888,\"#fdca26\"],[1.0,\"#f0f921\"]]}],\"surface\":[{\"type\":\"surface\",\"colorbar\":{\"outlinewidth\":0,\"ticks\":\"\"},\"colorscale\":[[0.0,\"#0d0887\"],[0.1111111111111111,\"#46039f\"],[0.2222222222222222,\"#7201a8\"],[0.3333333333333333,\"#9c179e\"],[0.4444444444444444,\"#bd3786\"],[0.5555555555555556,\"#d8576b\"],[0.6666666666666666,\"#ed7953\"],[0.7777777777777778,\"#fb9f3a\"],[0.8888888888888888,\"#fdca26\"],[1.0,\"#f0f921\"]]}],\"mesh3d\":[{\"type\":\"mesh3d\",\"colorbar\":{\"outlinewidth\":0,\"ticks\":\"\"}}],\"scatter\":[{\"fillpattern\":{\"fillmode\":\"overlay\",\"size\":10,\"solidity\":0.2},\"type\":\"scatter\"}],\"parcoords\":[{\"type\":\"parcoords\",\"line\":{\"colorbar\":{\"outlinewidth\":0,\"ticks\":\"\"}}}],\"scatterpolargl\":[{\"type\":\"scatterpolargl\",\"marker\":{\"colorbar\":{\"outlinewidth\":0,\"ticks\":\"\"}}}],\"bar\":[{\"error_x\":{\"color\":\"#2a3f5f\"},\"error_y\":{\"color\":\"#2a3f5f\"},\"marker\":{\"line\":{\"color\":\"#E5ECF6\",\"width\":0.5},\"pattern\":{\"fillmode\":\"overlay\",\"size\":10,\"solidity\":0.2}},\"type\":\"bar\"}],\"scattergeo\":[{\"type\":\"scattergeo\",\"marker\":{\"colorbar\":{\"outlinewidth\":0,\"ticks\":\"\"}}}],\"scatterpolar\":[{\"type\":\"scatterpolar\",\"marker\":{\"colorbar\":{\"outlinewidth\":0,\"ticks\":\"\"}}}],\"histogram\":[{\"marker\":{\"pattern\":{\"fillmode\":\"overlay\",\"size\":10,\"solidity\":0.2}},\"type\":\"histogram\"}],\"scattergl\":[{\"type\":\"scattergl\",\"marker\":{\"colorbar\":{\"outlinewidth\":0,\"ticks\":\"\"}}}],\"scatter3d\":[{\"type\":\"scatter3d\",\"line\":{\"colorbar\":{\"outlinewidth\":0,\"ticks\":\"\"}},\"marker\":{\"colorbar\":{\"outlinewidth\":0,\"ticks\":\"\"}}}],\"scattermap\":[{\"type\":\"scattermap\",\"marker\":{\"colorbar\":{\"outlinewidth\":0,\"ticks\":\"\"}}}],\"scattermapbox\":[{\"type\":\"scattermapbox\",\"marker\":{\"colorbar\":{\"outlinewidth\":0,\"ticks\":\"\"}}}],\"scatterternary\":[{\"type\":\"scatterternary\",\"marker\":{\"colorbar\":{\"outlinewidth\":0,\"ticks\":\"\"}}}],\"scattercarpet\":[{\"type\":\"scattercarpet\",\"marker\":{\"colorbar\":{\"outlinewidth\":0,\"ticks\":\"\"}}}],\"carpet\":[{\"aaxis\":{\"endlinecolor\":\"#2a3f5f\",\"gridcolor\":\"white\",\"linecolor\":\"white\",\"minorgridcolor\":\"white\",\"startlinecolor\":\"#2a3f5f\"},\"baxis\":{\"endlinecolor\":\"#2a3f5f\",\"gridcolor\":\"white\",\"linecolor\":\"white\",\"minorgridcolor\":\"white\",\"startlinecolor\":\"#2a3f5f\"},\"type\":\"carpet\"}],\"table\":[{\"cells\":{\"fill\":{\"color\":\"#EBF0F8\"},\"line\":{\"color\":\"white\"}},\"header\":{\"fill\":{\"color\":\"#C8D4E3\"},\"line\":{\"color\":\"white\"}},\"type\":\"table\"}],\"barpolar\":[{\"marker\":{\"line\":{\"color\":\"#E5ECF6\",\"width\":0.5},\"pattern\":{\"fillmode\":\"overlay\",\"size\":10,\"solidity\":0.2}},\"type\":\"barpolar\"}],\"pie\":[{\"automargin\":true,\"type\":\"pie\"}]},\"layout\":{\"autotypenumbers\":\"strict\",\"colorway\":[\"#636efa\",\"#EF553B\",\"#00cc96\",\"#ab63fa\",\"#FFA15A\",\"#19d3f3\",\"#FF6692\",\"#B6E880\",\"#FF97FF\",\"#FECB52\"],\"font\":{\"color\":\"#2a3f5f\"},\"hovermode\":\"closest\",\"hoverlabel\":{\"align\":\"left\"},\"paper_bgcolor\":\"white\",\"plot_bgcolor\":\"#E5ECF6\",\"polar\":{\"bgcolor\":\"#E5ECF6\",\"angularaxis\":{\"gridcolor\":\"white\",\"linecolor\":\"white\",\"ticks\":\"\"},\"radialaxis\":{\"gridcolor\":\"white\",\"linecolor\":\"white\",\"ticks\":\"\"}},\"ternary\":{\"bgcolor\":\"#E5ECF6\",\"aaxis\":{\"gridcolor\":\"white\",\"linecolor\":\"white\",\"ticks\":\"\"},\"baxis\":{\"gridcolor\":\"white\",\"linecolor\":\"white\",\"ticks\":\"\"},\"caxis\":{\"gridcolor\":\"white\",\"linecolor\":\"white\",\"ticks\":\"\"}},\"coloraxis\":{\"colorbar\":{\"outlinewidth\":0,\"ticks\":\"\"}},\"colorscale\":{\"sequential\":[[0.0,\"#0d0887\"],[0.1111111111111111,\"#46039f\"],[0.2222222222222222,\"#7201a8\"],[0.3333333333333333,\"#9c179e\"],[0.4444444444444444,\"#bd3786\"],[0.5555555555555556,\"#d8576b\"],[0.6666666666666666,\"#ed7953\"],[0.7777777777777778,\"#fb9f3a\"],[0.8888888888888888,\"#fdca26\"],[1.0,\"#f0f921\"]],\"sequentialminus\":[[0.0,\"#0d0887\"],[0.1111111111111111,\"#46039f\"],[0.2222222222222222,\"#7201a8\"],[0.3333333333333333,\"#9c179e\"],[0.4444444444444444,\"#bd3786\"],[0.5555555555555556,\"#d8576b\"],[0.6666666666666666,\"#ed7953\"],[0.7777777777777778,\"#fb9f3a\"],[0.8888888888888888,\"#fdca26\"],[1.0,\"#f0f921\"]],\"diverging\":[[0,\"#8e0152\"],[0.1,\"#c51b7d\"],[0.2,\"#de77ae\"],[0.3,\"#f1b6da\"],[0.4,\"#fde0ef\"],[0.5,\"#f7f7f7\"],[0.6,\"#e6f5d0\"],[0.7,\"#b8e186\"],[0.8,\"#7fbc41\"],[0.9,\"#4d9221\"],[1,\"#276419\"]]},\"xaxis\":{\"gridcolor\":\"white\",\"linecolor\":\"white\",\"ticks\":\"\",\"title\":{\"standoff\":15},\"zerolinecolor\":\"white\",\"automargin\":true,\"zerolinewidth\":2},\"yaxis\":{\"gridcolor\":\"white\",\"linecolor\":\"white\",\"ticks\":\"\",\"title\":{\"standoff\":15},\"zerolinecolor\":\"white\",\"automargin\":true,\"zerolinewidth\":2},\"scene\":{\"xaxis\":{\"backgroundcolor\":\"#E5ECF6\",\"gridcolor\":\"white\",\"linecolor\":\"white\",\"showbackground\":true,\"ticks\":\"\",\"zerolinecolor\":\"white\",\"gridwidth\":2},\"yaxis\":{\"backgroundcolor\":\"#E5ECF6\",\"gridcolor\":\"white\",\"linecolor\":\"white\",\"showbackground\":true,\"ticks\":\"\",\"zerolinecolor\":\"white\",\"gridwidth\":2},\"zaxis\":{\"backgroundcolor\":\"#E5ECF6\",\"gridcolor\":\"white\",\"linecolor\":\"white\",\"showbackground\":true,\"ticks\":\"\",\"zerolinecolor\":\"white\",\"gridwidth\":2}},\"shapedefaults\":{\"line\":{\"color\":\"#2a3f5f\"}},\"annotationdefaults\":{\"arrowcolor\":\"#2a3f5f\",\"arrowhead\":0,\"arrowwidth\":1},\"geo\":{\"bgcolor\":\"white\",\"landcolor\":\"#E5ECF6\",\"subunitcolor\":\"white\",\"showland\":true,\"showlakes\":true,\"lakecolor\":\"white\"},\"title\":{\"x\":0.05},\"mapbox\":{\"style\":\"light\"}}},\"xaxis\":{\"anchor\":\"y\",\"domain\":[0.0,0.15],\"title\":{\"text\":\"utc_time\"}},\"yaxis\":{\"anchor\":\"x\",\"domain\":[0.0,1.0],\"title\":{\"text\":\"rate\"}},\"xaxis2\":{\"anchor\":\"y2\",\"domain\":[0.16999999999999998,0.31999999999999995],\"matches\":\"x\",\"title\":{\"text\":\"utc_time\"}},\"yaxis2\":{\"anchor\":\"x2\",\"domain\":[0.0,1.0],\"matches\":\"y\",\"showticklabels\":false},\"xaxis3\":{\"anchor\":\"y3\",\"domain\":[0.33999999999999997,0.49],\"matches\":\"x\",\"title\":{\"text\":\"utc_time\"}},\"yaxis3\":{\"anchor\":\"x3\",\"domain\":[0.0,1.0],\"matches\":\"y\",\"showticklabels\":false},\"xaxis4\":{\"anchor\":\"y4\",\"domain\":[0.51,0.66],\"matches\":\"x\",\"title\":{\"text\":\"utc_time\"}},\"yaxis4\":{\"anchor\":\"x4\",\"domain\":[0.0,1.0],\"matches\":\"y\",\"showticklabels\":false},\"xaxis5\":{\"anchor\":\"y5\",\"domain\":[0.6799999999999999,0.83],\"matches\":\"x\",\"title\":{\"text\":\"utc_time\"}},\"yaxis5\":{\"anchor\":\"x5\",\"domain\":[0.0,1.0],\"matches\":\"y\",\"showticklabels\":false},\"xaxis6\":{\"anchor\":\"y6\",\"domain\":[0.85,1.0],\"matches\":\"x\",\"title\":{\"text\":\"utc_time\"}},\"yaxis6\":{\"anchor\":\"x6\",\"domain\":[0.0,1.0],\"matches\":\"y\",\"showticklabels\":false},\"annotations\":[{\"font\":{},\"showarrow\":false,\"text\":\"sgd_amount=500\",\"x\":0.075,\"xanchor\":\"center\",\"xref\":\"paper\",\"y\":1.0,\"yanchor\":\"bottom\",\"yref\":\"paper\"},{\"font\":{},\"showarrow\":false,\"text\":\"sgd_amount=1000\",\"x\":0.24499999999999997,\"xanchor\":\"center\",\"xref\":\"paper\",\"y\":1.0,\"yanchor\":\"bottom\",\"yref\":\"paper\"},{\"font\":{},\"showarrow\":false,\"text\":\"sgd_amount=1500\",\"x\":0.415,\"xanchor\":\"center\",\"xref\":\"paper\",\"y\":1.0,\"yanchor\":\"bottom\",\"yref\":\"paper\"},{\"font\":{},\"showarrow\":false,\"text\":\"sgd_amount=2000\",\"x\":0.585,\"xanchor\":\"center\",\"xref\":\"paper\",\"y\":1.0,\"yanchor\":\"bottom\",\"yref\":\"paper\"},{\"font\":{},\"showarrow\":false,\"text\":\"sgd_amount=3000\",\"x\":0.7549999999999999,\"xanchor\":\"center\",\"xref\":\"paper\",\"y\":1.0,\"yanchor\":\"bottom\",\"yref\":\"paper\"},{\"font\":{},\"showarrow\":false,\"text\":\"sgd_amount=5000\",\"x\":0.925,\"xanchor\":\"center\",\"xref\":\"paper\",\"y\":1.0,\"yanchor\":\"bottom\",\"yref\":\"paper\"}],\"legend\":{\"title\":{\"text\":\"converter\"},\"tracegroupgap\":0},\"title\":{\"text\":\"Conversion rate from MYR to SGD over time\"}},                        {\"responsive\": true}                    ).then(function(){\n",
       "                            \n",
       "var gd = document.getElementById('171e7a21-e93a-4571-a683-059be8b08ae3');\n",
       "var x = new MutationObserver(function (mutations, observer) {{\n",
       "        var display = window.getComputedStyle(gd).display;\n",
       "        if (!display || display === 'none') {{\n",
       "            console.log([gd, 'removed!']);\n",
       "            Plotly.purge(gd);\n",
       "            observer.disconnect();\n",
       "        }}\n",
       "}});\n",
       "\n",
       "// Listen for the removal of the full notebook cells\n",
       "var notebookContainer = gd.closest('#notebook-container');\n",
       "if (notebookContainer) {{\n",
       "    x.observe(notebookContainer, {childList: true});\n",
       "}}\n",
       "\n",
       "// Listen for the clearing of the current output cell\n",
       "var outputEl = gd.closest('.output');\n",
       "if (outputEl) {{\n",
       "    x.observe(outputEl, {childList: true});\n",
       "}}\n",
       "\n",
       "                        })                };            </script>        </div>"
      ]
     },
     "metadata": {},
     "output_type": "display_data"
    }
   ],
   "source": [
    "fig = px.line(df, \n",
    "              x = 'utc_time', \n",
    "              y = 'rate', \n",
    "              color = 'converter', \n",
    "              facet_col = 'sgd_amount',\n",
    "              title='Conversion rate from MYR to SGD over time')\n",
    "fig.show(renderer='notebook_connected')"
   ]
  }
 ],
 "metadata": {
  "kernelspec": {
   "display_name": "venv",
   "language": "python",
   "name": "python3"
  },
  "language_info": {
   "codemirror_mode": {
    "name": "ipython",
    "version": 3
   },
   "file_extension": ".py",
   "mimetype": "text/x-python",
   "name": "python",
   "nbconvert_exporter": "python",
   "pygments_lexer": "ipython3",
   "version": "3.11.7"
  }
 },
 "nbformat": 4,
 "nbformat_minor": 5
}
